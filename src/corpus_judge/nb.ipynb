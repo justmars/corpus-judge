{
 "cells": [
  {
   "cell_type": "code",
   "execution_count": 1,
   "metadata": {},
   "outputs": [],
   "source": [
    "from pathlib import Path\n",
    "\n",
    "import yaml\n",
    "from sqlite_utils import Database\n",
    "\n",
    "from corpus_judge import JUSTICE_FILE, CandidateJustice, OpinionWriterName\n",
    "\n",
    "db = Database(\"sc.db\")"
   ]
  },
  {
   "cell_type": "code",
   "execution_count": 2,
   "metadata": {},
   "outputs": [],
   "source": [
    "def add_justices(db: Database):\n",
    "    tbl = db[\"justices\"]  # default table name\n",
    "    if not tbl.exists():\n",
    "        file_content = JUSTICE_FILE.read_bytes()\n",
    "        records = yaml.safe_load(file_content)\n",
    "        tbl.insert_all(records, ignore=True)  # type: ignore\n",
    "\n",
    "\n",
    "add_justices(db)"
   ]
  },
  {
   "cell_type": "code",
   "execution_count": 3,
   "metadata": {},
   "outputs": [],
   "source": [
    "justice_names = list(\n",
    "    row[\"full_name\"] for row in db[\"justices\"].rows_where(select=\"full_name\")\n",
    ")"
   ]
  },
  {
   "cell_type": "code",
   "execution_count": 4,
   "metadata": {},
   "outputs": [
    {
     "data": {
      "text/plain": [
       "['Alfredo Benjamin Caguioa']"
      ]
     },
     "execution_count": 4,
     "metadata": {},
     "output_type": "execute_result"
    }
   ],
   "source": [
    "from difflib import get_close_matches\n",
    "\n",
    "get_close_matches(\"Justice Alredo Caguioa\", justice_names, n=1)"
   ]
  },
  {
   "cell_type": "code",
   "execution_count": 5,
   "metadata": {},
   "outputs": [
    {
     "data": {
      "text/plain": [
       "[{'id': 1, 'full_name': 'Cayetano Arellano'},\n",
       " {'id': 2, 'full_name': 'Florentino Torres'},\n",
       " {'id': 3, 'full_name': 'Victorino Mapa'},\n",
       " {'id': 4, 'full_name': 'James Francis Smith'},\n",
       " {'id': 5, 'full_name': 'Joseph F. Cooper'},\n",
       " {'id': 6, 'full_name': 'Charles A. Willard'},\n",
       " {'id': 7, 'full_name': 'Fletcher Ladd'},\n",
       " {'id': 8, 'full_name': 'John T. McDonough'},\n",
       " {'id': 9, 'full_name': 'Elias Finley Johnson'},\n",
       " {'id': 10, 'full_name': 'Adam Clarke Carson'},\n",
       " {'id': 11, 'full_name': 'James F. Tracey'},\n",
       " {'id': 12, 'full_name': 'Sherman Moreland'},\n",
       " {'id': 13, 'full_name': 'Charles Burke Elliott'},\n",
       " {'id': 14, 'full_name': 'Grant T. Trent'},\n",
       " {'id': 15, 'full_name': 'Manuel Araullo'},\n",
       " {'id': 16, 'full_name': 'Thomas A. Street'},\n",
       " {'id': 17, 'full_name': 'George A. Malcolm'},\n",
       " {'id': 18, 'full_name': 'Ramon Avancena'},\n",
       " {'id': 19, 'full_name': 'Frederich Charles Fisher'},\n",
       " {'id': 20, 'full_name': 'Percy M. Moir'},\n",
       " {'id': 21, 'full_name': 'Ignacio Villamor'},\n",
       " {'id': 22, 'full_name': 'James A. Ostrand'},\n",
       " {'id': 23, 'full_name': 'Charles A. Johns'},\n",
       " {'id': 24, 'full_name': 'Norberto Romualdez'},\n",
       " {'id': 25, 'full_name': 'Antonio Villa-Real'},\n",
       " {'id': 26, 'full_name': 'John A. Hull'},\n",
       " {'id': 27, 'full_name': 'James C. Vickers'},\n",
       " {'id': 28, 'full_name': 'Jose Abad Santos'},\n",
       " {'id': 29, 'full_name': 'Carlos A. Imperial'},\n",
       " {'id': 30, 'full_name': 'George C. Butte'},\n",
       " {'id': 31, 'full_name': 'Anacleto Diaz'},\n",
       " {'id': 32, 'full_name': 'Leonard S. Goddard'},\n",
       " {'id': 33, 'full_name': 'Claro M. Recto'},\n",
       " {'id': 34, 'full_name': 'Jośe P. Laurel'},\n",
       " {'id': 35, 'full_name': 'Pedro Concepcion'},\n",
       " {'id': 36, 'full_name': 'Manuel V. Moran'},\n",
       " {'id': 37, 'full_name': 'Roman Ozaeta'},\n",
       " {'id': 38, 'full_name': 'Ricardo Paras'},\n",
       " {'id': 39, 'full_name': 'Jose Yulo'},\n",
       " {'id': 40, 'full_name': 'Jorge C. Bocobo'},\n",
       " {'id': 41, 'full_name': 'Jose Generoso'},\n",
       " {'id': 42, 'full_name': 'Jose Lopez Vito'},\n",
       " {'id': 43, 'full_name': 'Antonio Horrilleno'},\n",
       " {'id': 44, 'full_name': 'Delfin Jaranilla'},\n",
       " {'id': 45, 'full_name': 'Felicisimo R. Feria'},\n",
       " {'id': 46, 'full_name': 'Mariano H. De Joya'},\n",
       " {'id': 47, 'full_name': 'Guillermo Pablo'},\n",
       " {'id': 48, 'full_name': 'Gregorio Perfecto'},\n",
       " {'id': 49, 'full_name': 'Emilio Y. Hilado'},\n",
       " {'id': 50, 'full_name': 'Jose A. Espiritu'},\n",
       " {'id': 51, 'full_name': 'Manuel C. Briones'},\n",
       " {'id': 52, 'full_name': 'Cesar Bengzon'},\n",
       " {'id': 53, 'full_name': 'Sabino B. Padilla'},\n",
       " {'id': 54, 'full_name': 'Pedro Tuason'},\n",
       " {'id': 55, 'full_name': 'Jose Hontiveros'},\n",
       " {'id': 56, 'full_name': 'Alejandro A. Reyes'},\n",
       " {'id': 57, 'full_name': 'Marcelino R. Montemayor'},\n",
       " {'id': 58, 'full_name': 'Luis P. Torres'},\n",
       " {'id': 59, 'full_name': 'Felix Angelo Bautista'},\n",
       " {'id': 60, 'full_name': 'Fernando Jugo'},\n",
       " {'id': 61, 'full_name': 'Alejo Labrador'},\n",
       " {'id': 62, 'full_name': 'Roberto Concepcion'},\n",
       " {'id': 63, 'full_name': 'Ramon Diokno'},\n",
       " {'id': 64, 'full_name': 'Jose B. L. Reyes'},\n",
       " {'id': 65, 'full_name': 'Pastor M. Endencia'},\n",
       " {'id': 66, 'full_name': 'Alfonso Felix'},\n",
       " {'id': 67, 'full_name': 'Jesus G. Barrera'},\n",
       " {'id': 68, 'full_name': 'Jose Gutierrez David'},\n",
       " {'id': 69, 'full_name': 'Arsenio Dizon'},\n",
       " {'id': 70, 'full_name': 'Jose Ma. Paredes'},\n",
       " {'id': 71, 'full_name': 'Dionisio De Leon'},\n",
       " {'id': 72, 'full_name': 'Felipe Natividad'},\n",
       " {'id': 73, 'full_name': 'Roberto Regala'},\n",
       " {'id': 74, 'full_name': 'Querube Makalintal'},\n",
       " {'id': 75, 'full_name': 'Calixto Zaldivar'},\n",
       " {'id': 76, 'full_name': 'Jose P. Bengzon'},\n",
       " {'id': 77, 'full_name': 'Conrado V. Sanchez'},\n",
       " {'id': 78, 'full_name': 'Fred Ruiz Castro'},\n",
       " {'id': 79, 'full_name': 'Eugenio Angeles'},\n",
       " {'id': 80, 'full_name': 'Enrique Fernando'},\n",
       " {'id': 81, 'full_name': 'Francisco Capistrano'},\n",
       " {'id': 82, 'full_name': 'Claudio Teehankee, Sr.'},\n",
       " {'id': 83, 'full_name': 'Antonio P. Barredo'},\n",
       " {'id': 84, 'full_name': 'Julio Villamor'},\n",
       " {'id': 85, 'full_name': 'Felix Makasiar'},\n",
       " {'id': 86, 'full_name': 'Felix Q. Antonio'},\n",
       " {'id': 87, 'full_name': 'Salvador V. Esguerra'},\n",
       " {'id': 88, 'full_name': 'Estanislao A. Fernandez'},\n",
       " {'id': 89, 'full_name': 'Cecilia Munoz-Palma'},\n",
       " {'id': 90, 'full_name': 'Ramon Aquino'},\n",
       " {'id': 91, 'full_name': 'Hermogenes Concepcion Jr.'},\n",
       " {'id': 92, 'full_name': 'Ruperto G. Martin'},\n",
       " {'id': 93, 'full_name': 'Guillermo S. Santos'},\n",
       " {'id': 94, 'full_name': 'Ramon C. Fernandez'},\n",
       " {'id': 95, 'full_name': 'Juvenal K. Guerrero'},\n",
       " {'id': 96, 'full_name': 'Vicente Abad Santos'},\n",
       " {'id': 97, 'full_name': 'Pacifico P. De Castro'},\n",
       " {'id': 98, 'full_name': 'Ameurfina Melencio-Herrera'},\n",
       " {'id': 99, 'full_name': 'Vicente G. Ericta'},\n",
       " {'id': 100, 'full_name': 'Efren I. Plana'},\n",
       " {'id': 101, 'full_name': 'Venicio T. Escolin'},\n",
       " {'id': 102, 'full_name': 'Conrado M. Vasquez'},\n",
       " {'id': 103, 'full_name': 'Lorenzo Relova'},\n",
       " {'id': 104, 'full_name': 'Hugo Gutierrez Jr.'},\n",
       " {'id': 105, 'full_name': 'Buenaventura S. De La Fuente'},\n",
       " {'id': 106, 'full_name': 'Serafin R. Cuevas'},\n",
       " {'id': 107, 'full_name': 'Nestor B. Alampay'},\n",
       " {'id': 108, 'full_name': 'Lino M. Patajo'},\n",
       " {'id': 109, 'full_name': 'Jose Feria'},\n",
       " {'id': 110, 'full_name': 'Pedro Yap'},\n",
       " {'id': 111, 'full_name': 'Marcelo Fernan'},\n",
       " {'id': 112, 'full_name': 'Andres Narvasa'},\n",
       " {'id': 113, 'full_name': 'Isagani A. Cruz'},\n",
       " {'id': 114, 'full_name': 'Edgardo L. Paras'},\n",
       " {'id': 115, 'full_name': 'Florentino P. Feliciano'},\n",
       " {'id': 116, 'full_name': 'Teodoro R. Padilla'},\n",
       " {'id': 117, 'full_name': 'Abdulwahid A. Bidin'},\n",
       " {'id': 118, 'full_name': 'Emilio A. Gancayco'},\n",
       " {'id': 119, 'full_name': 'Abraham F. Sarmiento'},\n",
       " {'id': 120, 'full_name': 'Irene R. Cortes'},\n",
       " {'id': 121, 'full_name': 'Carolina Grino-Aquino'},\n",
       " {'id': 122, 'full_name': 'Leo D. Medialdea'},\n",
       " {'id': 123, 'full_name': 'Florenz D. Regalado'},\n",
       " {'id': 124, 'full_name': 'Hilario Davide Jr.'},\n",
       " {'id': 125, 'full_name': 'Flerida Ruth Pineda-Romero'},\n",
       " {'id': 126, 'full_name': 'Rodolfo A. Nocon'},\n",
       " {'id': 127, 'full_name': 'Josue N. Bellosillo'},\n",
       " {'id': 128, 'full_name': 'Jose Melo'},\n",
       " {'id': 129, 'full_name': 'Jose C. Campos Jr.'},\n",
       " {'id': 130, 'full_name': 'Camilo D. Quiason'},\n",
       " {'id': 131, 'full_name': 'Reynato Puno'},\n",
       " {'id': 132, 'full_name': 'Jose C. Vitug'},\n",
       " {'id': 133, 'full_name': 'Santiago M. Kapunan'},\n",
       " {'id': 134, 'full_name': 'Vicente V. Mendoza'},\n",
       " {'id': 135, 'full_name': 'Ricardo J. Francisco'},\n",
       " {'id': 136, 'full_name': 'Regino C. Hermosisima Jr.'},\n",
       " {'id': 137, 'full_name': 'Artemio V. Panganiban'},\n",
       " {'id': 138, 'full_name': 'Justo P. Torres Jr.'},\n",
       " {'id': 139, 'full_name': 'Antonio M. Martinez'},\n",
       " {'id': 140, 'full_name': 'Leonardo A. Quisumbing'},\n",
       " {'id': 141, 'full_name': 'Fidel P. Purisima'},\n",
       " {'id': 142, 'full_name': 'Bernardo P. Pardo'},\n",
       " {'id': 143, 'full_name': 'Arturo B. Buena'},\n",
       " {'id': 144, 'full_name': 'Minerva P. Gonzaga-Reyes'},\n",
       " {'id': 145, 'full_name': 'Consuelo Ynares-Santiago'},\n",
       " {'id': 146, 'full_name': 'Sabino R. De Leon Jr.'},\n",
       " {'id': 147, 'full_name': 'Angelina Sandoval-Gutierrez'},\n",
       " {'id': 148, 'full_name': 'Antonio T. Carpio'},\n",
       " {'id': 149, 'full_name': 'Ma. Alicia Austria-Martinez'},\n",
       " {'id': 150, 'full_name': 'Renato C. Corona'},\n",
       " {'id': 151, 'full_name': 'Conchita Carpio-Morales'},\n",
       " {'id': 152, 'full_name': 'Romeo J. Callejo'},\n",
       " {'id': 153, 'full_name': 'Adolfo S. Azcuna'},\n",
       " {'id': 154, 'full_name': 'Dante O. Tinga'},\n",
       " {'id': 155, 'full_name': 'Minita V. Chico-Nazario'},\n",
       " {'id': 156, 'full_name': 'Cancio C. Garcia'},\n",
       " {'id': 157, 'full_name': 'Presbitero Velasco Jr.'},\n",
       " {'id': 158, 'full_name': 'Antonio Eduardo B. Nachura'},\n",
       " {'id': 159, 'full_name': 'Ruben T. Reyes'},\n",
       " {'id': 160, 'full_name': 'Teresita Leonardo-De Castro'},\n",
       " {'id': 161, 'full_name': 'Arturo D. Brion'},\n",
       " {'id': 162, 'full_name': 'Diosdado M. Peralta'},\n",
       " {'id': 163, 'full_name': 'Lucas P. Bersamin'},\n",
       " {'id': 164, 'full_name': 'Mariano C. del Castillo'},\n",
       " {'id': 165, 'full_name': 'Roberto A. Abad'},\n",
       " {'id': 166, 'full_name': 'Martin Villarama Jr.'},\n",
       " {'id': 167, 'full_name': 'Jose P. Perez'},\n",
       " {'id': 168, 'full_name': 'Jose C. Mendoza'},\n",
       " {'id': 169, 'full_name': 'Maria Lourdes Sereno'},\n",
       " {'id': 170, 'full_name': 'Bienvenido L. Reyes'},\n",
       " {'id': 171, 'full_name': 'Estela Perlas-Bernabe'},\n",
       " {'id': 172, 'full_name': 'Marvic Mario Victor F. Leonen'},\n",
       " {'id': 173, 'full_name': 'Francis H. Jardeleza'},\n",
       " {'id': 174, 'full_name': 'Alfredo Benjamin Caguioa'},\n",
       " {'id': 175, 'full_name': 'Samuel R. Martires'},\n",
       " {'id': 176, 'full_name': 'Noel G. Tijam'},\n",
       " {'id': 177, 'full_name': 'Andres Reyes Jr.'},\n",
       " {'id': 178, 'full_name': 'Alexander G. Gesmundo'},\n",
       " {'id': 179, 'full_name': 'Jose B. Reyes Jr.'},\n",
       " {'id': 180, 'full_name': 'Ramon Paul Hernando'},\n",
       " {'id': 181, 'full_name': 'Rosmari Carandang'},\n",
       " {'id': 182, 'full_name': 'Amy Lazaro-Javier'},\n",
       " {'id': 183, 'full_name': 'Henri Jean Paul B. Inting'},\n",
       " {'id': 184, 'full_name': 'Rodil V. Zalameda'},\n",
       " {'id': 185, 'full_name': 'Mario V. Lopez'},\n",
       " {'id': 186, 'full_name': 'Edgardo L. Delos Santos'},\n",
       " {'id': 187, 'full_name': 'Samuel H. Gaerlan'},\n",
       " {'id': 188, 'full_name': 'Priscilla Baltazar-Padilla'},\n",
       " {'id': 189, 'full_name': 'Ricardo Rosario'},\n",
       " {'id': 190, 'full_name': 'Jhosep Lopez'},\n",
       " {'id': 191, 'full_name': 'Japar Dimaampao'},\n",
       " {'id': 192, 'full_name': 'Midas Marquez'},\n",
       " {'id': 193, 'full_name': 'Antonio Kho Jr.'},\n",
       " {'id': 194, 'full_name': 'Maria Filomena D. Singh'}]"
      ]
     },
     "execution_count": 5,
     "metadata": {},
     "output_type": "execute_result"
    }
   ],
   "source": [
    "list(db[\"justices\"].rows_where(select=\"id,full_name\"))"
   ]
  },
  {
   "cell_type": "code",
   "execution_count": null,
   "metadata": {},
   "outputs": [],
   "source": [
    "search = CandidateJustice(db=db, date_str=\"Dec. 1, 1995\")"
   ]
  },
  {
   "cell_type": "code",
   "execution_count": 6,
   "metadata": {},
   "outputs": [],
   "source": [
    "s2 = CandidateJustice(db=db, text=\"Panganiban\", date_str=\"2006-03-30\")"
   ]
  },
  {
   "cell_type": "code",
   "execution_count": 7,
   "metadata": {},
   "outputs": [],
   "source": [
    "s3 = CandidateJustice(db=db, text=\"Antonio Kho, Jr.\", date_str=\"2023-04-03\")"
   ]
  },
  {
   "cell_type": "code",
   "execution_count": 8,
   "metadata": {},
   "outputs": [
    {
     "data": {
      "text/plain": [
       "{'id': 193, 'surname': 'Kho', 'designation': 'J.'}"
      ]
     },
     "execution_count": 8,
     "metadata": {},
     "output_type": "execute_result"
    }
   ],
   "source": [
    "s3.choice"
   ]
  },
  {
   "cell_type": "code",
   "execution_count": 9,
   "metadata": {},
   "outputs": [],
   "source": [
    "s4 = CandidateJustice(db=db, text=\"Kho, Jr.\", date_str=\"2023-04-03\")"
   ]
  },
  {
   "cell_type": "code",
   "execution_count": 10,
   "metadata": {},
   "outputs": [
    {
     "data": {
      "text/plain": [
       "{'id': 193,\n",
       " 'full_name': 'Antonio Kho Jr.',\n",
       " 'surname': 'Kho',\n",
       " 'start_term': '2022-02-24',\n",
       " 'inactive_date': '2036-06-29',\n",
       " 'chief_date': None,\n",
       " 'designation': 'J.'}"
      ]
     },
     "execution_count": 10,
     "metadata": {},
     "output_type": "execute_result"
    }
   ],
   "source": [
    "s4.choice"
   ]
  },
  {
   "cell_type": "code",
   "execution_count": null,
   "metadata": {},
   "outputs": [],
   "source": [
    "OpinionWriterName.extract(\"Justice Marvic M.V.F. Leonen\")"
   ]
  },
  {
   "cell_type": "code",
   "execution_count": null,
   "metadata": {},
   "outputs": [],
   "source": [
    "s3"
   ]
  },
  {
   "cell_type": "code",
   "execution_count": null,
   "metadata": {},
   "outputs": [],
   "source": [
    "len(list(search.rows))"
   ]
  },
  {
   "cell_type": "code",
   "execution_count": null,
   "metadata": {},
   "outputs": [],
   "source": [
    "# sorted(l, key=lambda d: d[\"id\"])"
   ]
  }
 ],
 "metadata": {
  "kernelspec": {
   "display_name": ".venv",
   "language": "python",
   "name": "python3"
  },
  "language_info": {
   "codemirror_mode": {
    "name": "ipython",
    "version": 3
   },
   "file_extension": ".py",
   "mimetype": "text/x-python",
   "name": "python",
   "nbconvert_exporter": "python",
   "pygments_lexer": "ipython3",
   "version": "3.12.5"
  },
  "orig_nbformat": 4
 },
 "nbformat": 4,
 "nbformat_minor": 2
}
